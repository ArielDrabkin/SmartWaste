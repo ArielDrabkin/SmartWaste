{
  "cells": [
    {
      "cell_type": "code",
      "execution_count": 1,
      "metadata": {
        "id": "38ocPuO02VmV"
      },
      "outputs": [],
      "source": [
        "from tensorflow.keras.preprocessing.image import ImageDataGenerator\n",
        "import tensorflow as tf\n",
        "from tensorflow.keras.applications.vgg16 import VGG16\n",
        "from tensorflow.keras import layers\n"
      ]
    },
    {
      "cell_type": "code",
      "execution_count": 2,
      "metadata": {
        "colab": {
          "base_uri": "https://localhost:8080/"
        },
        "id": "g2rrEn8y3YZT",
        "outputId": "f5c9e86e-6417-48df-a67f-6e553738bda7"
      },
      "outputs": [
        {
          "output_type": "stream",
          "name": "stdout",
          "text": [
            "Drive already mounted at /content/drive; to attempt to forcibly remount, call drive.mount(\"/content/drive\", force_remount=True).\n"
          ]
        }
      ],
      "source": [
        "from google.colab import drive\n",
        "\n",
        "# Mount Google Drive\n",
        "drive.mount('/content/drive')\n"
      ]
    },
    {
      "cell_type": "code",
      "execution_count": 3,
      "metadata": {
        "id": "TxeMSDRD20-y"
      },
      "outputs": [],
      "source": [
        "def create_vgg16_model():\n",
        "    vgg16 = VGG16(input_shape=(224, 224, 3), weights=\"imagenet\", include_top=False)\n",
        "\n",
        "    # Freeze all layers in base model\n",
        "    for layer in vgg16.layers:\n",
        "        layer.trainable = False\n",
        "\n",
        "    # Change classifier head with random seed for reproducibility\n",
        "    x = layers.Flatten()(vgg16.output)\n",
        "    x = layers.Dense(units=512, activation=\"relu\")(x)\n",
        "    prediction = layers.Dense(units=7, activation=\"softmax\")(x)\n",
        "    model = tf.keras.models.Model(inputs=vgg16.input, outputs=prediction)\n",
        "\n",
        "    return model\n"
      ]
    },
    {
      "cell_type": "code",
      "execution_count": 4,
      "metadata": {
        "id": "mzcAMJxpusxZ"
      },
      "outputs": [],
      "source": [
        "# vgg16_model = create_vgg16_model()\n",
        "from keras.models import load_model\n",
        "\n",
        "# Load the saved model\n",
        "vgg16_model = load_model(\"/content/drive/MyDrive/DataSet/model_checkpoint.h5\")"
      ]
    },
    {
      "cell_type": "code",
      "execution_count": 5,
      "metadata": {
        "id": "jTCzz8Ln24G7"
      },
      "outputs": [],
      "source": [
        "\n",
        "train_datagen = ImageDataGenerator(\n",
        "    rescale=1.0/255.0,\n",
        "    shear_range=0.2,\n",
        "    zoom_range=0.2,\n",
        "    horizontal_flip=True,\n",
        "    rotation_range=30,  # Randomly rotate images by 30 degrees\n",
        "    width_shift_range=0.1,  # Randomly shift images horizontally by 10% of the total width\n",
        "    height_shift_range=0.1,  # Randomly shift images vertically by 10% of the total height\n",
        "    brightness_range=(0.8, 1.2),  # Randomly adjust brightness between 0.8 to 1.2\n",
        "    fill_mode='nearest'  # Fill any newly created pixels after rotation or shifting\n",
        ")\n"
      ]
    },
    {
      "cell_type": "code",
      "execution_count": null,
      "metadata": {
        "id": "QCBLozPm27VR"
      },
      "outputs": [],
      "source": [
        "train_generator = train_datagen.flow_from_directory(\"/content/drive/MyDrive/DataSet/train/\",\n",
        "    target_size=(224, 224),  # Resize the images to match the input shape of the model\n",
        "    batch_size=32,\n",
        "    class_mode='categorical'\n",
        ")"
      ]
    },
    {
      "cell_type": "code",
      "execution_count": 8,
      "metadata": {
        "id": "XowAFvTX3hqS"
      },
      "outputs": [],
      "source": [
        "vgg16_model.compile(\n",
        "    loss='categorical_crossentropy',\n",
        "    optimizer='adam',\n",
        "    metrics=['accuracy']\n",
        ")"
      ]
    },
    {
      "cell_type": "code",
      "execution_count": null,
      "metadata": {
        "colab": {
          "base_uri": "https://localhost:8080/"
        },
        "id": "MgPvNgKh3s-g",
        "outputId": "27b96578-7974-4fd9-dc6b-619da0367159"
      },
      "outputs": [
        {
          "output_type": "stream",
          "name": "stdout",
          "text": [
            "Epoch 3/10\n",
            "773/773 [==============================] - ETA: 0s - loss: 0.5495 - accuracy: 0.8112 \n",
            "Epoch 3: saving model to /content/drive/MyDrive/DataSet/model_checkpoint.h5\n",
            "773/773 [==============================] - 14693s 19s/step - loss: 0.5495 - accuracy: 0.8112\n",
            "Epoch 4/10\n",
            "511/773 [==================>...........] - ETA: 1:21:32 - loss: 0.5029 - accuracy: 0.8261"
          ]
        }
      ],
      "source": [
        "from keras.callbacks import ModelCheckpoint\n",
        "\n",
        "# Define the checkpoint filepath\n",
        "checkpoint_filepath = '/content/drive/MyDrive/DataSet/model_checkpoint.h5'\n",
        "\n",
        "# Create a ModelCheckpoint callback\n",
        "checkpoint_callback = ModelCheckpoint(\n",
        "    checkpoint_filepath,\n",
        "    save_weights_only=False,\n",
        "    save_best_only=False,\n",
        "    save_freq='epoch',\n",
        "    verbose=1\n",
        ")\n",
        "\n",
        "history = vgg16_model.fit(\n",
        "    train_generator,\n",
        "    epochs=10,  # Adjust the number of epochs according to your needs\n",
        "    initial_epoch=3,\n",
        "    callbacks=[checkpoint_callback]\n",
        ")"
      ]
    },
    {
      "cell_type": "code",
      "execution_count": null,
      "metadata": {
        "id": "c1vJavGo3z6L"
      },
      "outputs": [],
      "source": [
        "test_datagen = ImageDataGenerator(rescale=1.0/255.0)\n",
        "test_generator = test_datagen.flow_from_directory(\n",
        "    '/content/drive/MyDrive/test/',  # Path to the directory containing the test images\n",
        "    target_size=(224, 224),\n",
        "    batch_size=32,\n",
        "    class_mode='categorical',\n",
        "    shuffle=False\n",
        ")\n"
      ]
    },
    {
      "cell_type": "code",
      "execution_count": null,
      "metadata": {
        "id": "HI1WOPF230u0"
      },
      "outputs": [],
      "source": [
        "test_loss, test_acc = vgg16_model.evaluate(test_generator)\n",
        "print('Test Loss:', test_loss)\n",
        "print('Test Accuracy:', test_acc)"
      ]
    },
    {
      "cell_type": "code",
      "source": [
        "from sklearn.metrics import classification_report\n",
        "report = classification_report(y_true_labels, y_pred_labels)\n",
        "print(report)\n"
      ],
      "metadata": {
        "id": "l0sjFvxeQfUr"
      },
      "execution_count": null,
      "outputs": []
    },
    {
      "cell_type": "code",
      "execution_count": 1,
      "metadata": {
        "id": "fNmN-fFmXy9O",
        "colab": {
          "base_uri": "https://localhost:8080/",
          "height": 183
        },
        "outputId": "ba0c6e72-febe-4aa1-8e6f-52504f99b2e6"
      },
      "outputs": [
        {
          "output_type": "error",
          "ename": "NameError",
          "evalue": "ignored",
          "traceback": [
            "\u001b[0;31m---------------------------------------------------------------------------\u001b[0m",
            "\u001b[0;31mNameError\u001b[0m                                 Traceback (most recent call last)",
            "\u001b[0;32m<ipython-input-1-08158cda9afd>\u001b[0m in \u001b[0;36m<cell line: 2>\u001b[0;34m()\u001b[0m\n\u001b[1;32m      1\u001b[0m \u001b[0;31m# Save the model after one epoch\u001b[0m\u001b[0;34m\u001b[0m\u001b[0;34m\u001b[0m\u001b[0m\n\u001b[0;32m----> 2\u001b[0;31m \u001b[0mvgg16_model\u001b[0m\u001b[0;34m.\u001b[0m\u001b[0msave\u001b[0m\u001b[0;34m(\u001b[0m\u001b[0;34m\"/content/vgg16_model_after_one_epoch.h5\"\u001b[0m\u001b[0;34m)\u001b[0m\u001b[0;34m\u001b[0m\u001b[0;34m\u001b[0m\u001b[0m\n\u001b[0m",
            "\u001b[0;31mNameError\u001b[0m: name 'vgg16_model' is not defined"
          ]
        }
      ],
      "source": [
        "# Save the model after one epoch\n",
        "vgg16_model.save(\"/content/vgg16_model_after_one_epoch.h5\")"
      ]
    }
  ],
  "metadata": {
    "colab": {
      "provenance": []
    },
    "kernelspec": {
      "display_name": "Python 3",
      "name": "python3"
    },
    "language_info": {
      "name": "python"
    }
  },
  "nbformat": 4,
  "nbformat_minor": 0
}